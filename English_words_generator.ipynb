{
 "cells": [
  {
   "cell_type": "code",
   "execution_count": null,
   "metadata": {},
   "outputs": [],
   "source": [
    "#An English word generator produces images of text in png of 62 classes for each font and each font size\n",
    "#reference: http://www.8bitavenue.com/2013/10/python-character-image-generator/\n",
    "#Use python imaging libs to produce image\n",
    "from PIL import Image  \n",
    "from PIL import ImageDraw  \n",
    "from PIL import ImageFont  \n",
    "import os\n",
    "from random import randint \n",
    "\n",
    "k = 1 \n",
    "#directory of fonts\n",
    "#53 fonts\n",
    "font_dir=\"C:/Users/AndyTam/src/Font\"\n",
    "#directory of output\n",
    "out_dir=\"src/words_generated\"\n",
    "#62 classes including 0-9, A-Z and a-z\n",
    "list_of_Character=[\"0\",\"1\",\"2\",\"3\",\"4\",\"5\",\"6\",\"7\",\"8\",\"9\",\n",
    "                   \"A\",\"B\",\"C\",\"D\",\"E\",\"F\",\"G\",\"H\",\"I\",\"J\",\"K\",\"L\",\"M\",\"N\",\"O\",\"P\",\"Q\",\"R\",\"S\",\"T\",\"U\",\"V\",\"W\",\"X\",\"Y\",\"Z\",\n",
    "                   \"a\",\"b\",\"c\",\"d\",\"e\",\"f\",\"g\",\"h\",\"i\",\"j\",\"k\",\"l\",\"m\",\"n\",\"o\",\"p\",\"q\",\"r\",\"s\",\"t\",\"u\",\"v\",\"w\",\"x\",\"y\",\"z\"]\n",
    "#4 font sizes\n",
    "font_sizes=(8,12,36,40)\n",
    "#Image size  \n",
    "image_size = 64\n",
    "#black color\n",
    "background_color=0\n",
    "#Loop to produce English word image  \n",
    "for dirname, dirnames, filenames in os.walk(font_dir):  \n",
    "    # For each font do  \n",
    "    for filename in filenames:  \n",
    "        font_resource_file = dirname+\"/\"+filename  \n",
    "        # For each character do  \n",
    "        for character in list_of_Character:\n",
    "            for font_size in font_sizes:  \n",
    "                if font_size > 0:\n",
    "                    # Create character image :   \n",
    "                    # Grayscale, image size, background color  \n",
    "                    char_image = Image.new('L', (image_size, image_size), background_color)\n",
    "                    # Draw character image  \n",
    "                    draw = ImageDraw.Draw(char_image)  \n",
    "              \n",
    "                    # Specify font : Resource file, font size  \n",
    "                    font = ImageFont.truetype(font_resource_file, font_size)  \n",
    "              \n",
    "                    # Get character width and height  \n",
    "                    (font_width, font_height) = font.getsize(character)  \n",
    "                    # Calculate x position  \n",
    "                    x = (image_size - font_width)/2  \n",
    "              \n",
    "                    # Calculate y position  \n",
    "                    y = (image_size - font_height)/2\n",
    "              \n",
    "                    # Draw text \n",
    "                    draw.text((x, y), character, (245-background_color) + randint(0, 10) , font=font)  \n",
    "                     \n",
    "                    # Set file name                      \n",
    "                    file_name = out_dir +'/'+ str(k) + '_' +filename + '_fs_' +str(font_size) + '_bc_'+ str(background_color) + '.' +character+'.png'  \n",
    "              \n",
    "                    # Save image  \n",
    "                    char_image.save(file_name)  \n",
    "                     \n",
    "                    # Print character file name  \n",
    "                    #print (file_name)\n",
    "                    \n",
    "                    k = k + 1  "
   ]
  },
  {
   "cell_type": "code",
   "execution_count": null,
   "metadata": {
    "collapsed": true
   },
   "outputs": [],
   "source": []
  }
 ],
 "metadata": {
  "kernelspec": {
   "display_name": "Python 3",
   "language": "python",
   "name": "python3"
  },
  "language_info": {
   "codemirror_mode": {
    "name": "ipython",
    "version": 3
   },
   "file_extension": ".py",
   "mimetype": "text/x-python",
   "name": "python",
   "nbconvert_exporter": "python",
   "pygments_lexer": "ipython3",
   "version": "3.6.3"
  }
 },
 "nbformat": 4,
 "nbformat_minor": 2
}
