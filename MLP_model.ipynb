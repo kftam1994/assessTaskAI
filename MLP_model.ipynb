{
 "cells": [
  {
   "cell_type": "code",
   "execution_count": 1,
   "metadata": {
    "collapsed": true
   },
   "outputs": [],
   "source": [
    "#Multi-layer Perceptron (MLP) neural network model is used for classifying an image to 62 classes of characters or numbers\n",
    "\n",
    "import pickle\n",
    "#Load training dataset of street view character, handwritten and computer font images\n",
    "with open(\"X_char.txt\", \"rb\") as X_char_file_r:   # Unpickling\n",
    "       X_char = pickle.load(X_char_file_r)\n",
    "with open(\"y_char.txt\", \"rb\") as y_char_file_r:   # Unpickling\n",
    "       y_char = pickle.load(y_char_file_r)\n",
    "with open(\"X_hand.txt\", \"rb\") as X_hand_r:   # Unpickling\n",
    "       X_hand = pickle.load(X_hand_r)\n",
    "with open(\"y_hand.txt\", \"rb\") as y_hand_r:   # Unpickling\n",
    "       y_hand = pickle.load(y_hand_r)\n",
    "with open(\"X_char_fnt.txt\", \"rb\") as X_fnt_r:   # Unpickling\n",
    "       X_fnt = pickle.load(X_fnt_r)\n",
    "with open(\"y_char_fnt.txt\", \"rb\") as y_fnt_r:   # Unpickling\n",
    "       y_fnt = pickle.load(y_fnt_r)\n",
    "with open(\"X_gen.txt\", \"rb\") as X_gen_r:   # Unpickling\n",
    "       X_gen = pickle.load(X_gen_r)\n",
    "with open(\"y_gen.txt\", \"rb\") as y_gen_r:   # Unpickling\n",
    "       y_gen = pickle.load(y_gen_r)"
   ]
  },
  {
   "cell_type": "code",
   "execution_count": 2,
   "metadata": {},
   "outputs": [
    {
     "name": "stderr",
     "output_type": "stream",
     "text": [
      "C:\\Users\\AndyTam\\Anaconda3\\lib\\site-packages\\sklearn\\cross_validation.py:41: DeprecationWarning: This module was deprecated in version 0.18 in favor of the model_selection module into which all the refactored classes and functions are moved. Also note that the interface of the new CV iterators are different from that of this module. This module will be removed in 0.20.\n",
      "  \"This module will be removed in 0.20.\", DeprecationWarning)\n"
     ]
    },
    {
     "name": "stdout",
     "output_type": "stream",
     "text": [
      "Accuracy: 0.68 (+/- 0.01)\n"
     ]
    }
   ],
   "source": [
    "from sklearn.cross_validation import train_test_split\n",
    "from sklearn.neural_network import MLPClassifier\n",
    "from sklearn.model_selection import GridSearchCV\n",
    "from sklearn.model_selection import cross_val_score\n",
    "#Extract a stratified smaller dataset of 1% images\n",
    "X_hand_train, X_hand_test, y_hand_train, y_hand_test = train_test_split(X_hand, y_hand, \n",
    "                                                                        train_size=0.01, random_state=6,stratify=y_hand)\n",
    "#Combine training dataset of handwritten, street view, computer font and generated character\n",
    "X=X_hand_train+X_char+X_fnt+X_gen\n",
    "y=y_hand_train+y_char+y_fnt+y_gen\n",
    "\n",
    "#Shuffle the training dataset randomly so that the classes are distributed randomly\n",
    "from sklearn.utils import shuffle\n",
    "X, y = shuffle(X, y, random_state=11)\n",
    "#Declare the model\n",
    "#reference: http://scikit-learn.org/stable/modules/generated/sklearn.neural_network.MLPClassifier.html#sklearn.neural_network.MLPClassifier\n",
    "#Solver: stochastic gradient-based optimizer\n",
    "#Activation function: hyperbolic tan function\n",
    "#Learning rate, \"invscaling\": gradually decreases the learning rate\n",
    "#5 Hidden Layers with 300 neurons\n",
    "mlpclf_full = MLPClassifier(solver='adam', activation='tanh',learning_rate='invscaling',alpha=1e-5,\n",
    "                            hidden_layer_sizes=(300,300,300,300,300), random_state=31,max_iter=10000)\n",
    "#5-fold cross validation to find avaerage accuracy\n",
    "scores = cross_val_score(mlpclf_full, X, y, cv=5)\n",
    "print(\"Accuracy: %0.2f (+/- %0.2f)\" % (scores.mean(), scores.std() * 2))"
   ]
  },
  {
   "cell_type": "code",
   "execution_count": 3,
   "metadata": {},
   "outputs": [
    {
     "data": {
      "text/plain": [
       "['mlpfullmodel.pkl']"
      ]
     },
     "execution_count": 3,
     "metadata": {},
     "output_type": "execute_result"
    }
   ],
   "source": [
    "from sklearn.externals import joblib\n",
    "#Fit and save the MLP model\n",
    "mlpclf_full.fit(X, y) \n",
    "joblib.dump(mlpclf_full, 'mlpfullmodel.pkl') \n",
    "#code to load model\n",
    "#mlpclf_full = joblib.load('mlpfullmodel.pkl')"
   ]
  },
  {
   "cell_type": "code",
   "execution_count": null,
   "metadata": {
    "collapsed": true
   },
   "outputs": [],
   "source": []
  }
 ],
 "metadata": {
  "kernelspec": {
   "display_name": "Python 3",
   "language": "python",
   "name": "python3"
  },
  "language_info": {
   "codemirror_mode": {
    "name": "ipython",
    "version": 3
   },
   "file_extension": ".py",
   "mimetype": "text/x-python",
   "name": "python",
   "nbconvert_exporter": "python",
   "pygments_lexer": "ipython3",
   "version": "3.6.3"
  }
 },
 "nbformat": 4,
 "nbformat_minor": 2
}
