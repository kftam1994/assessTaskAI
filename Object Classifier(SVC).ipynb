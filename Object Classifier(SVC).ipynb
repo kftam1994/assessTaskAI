{
 "cells": [
  {
   "cell_type": "code",
   "execution_count": 6,
   "metadata": {
    "collapsed": true
   },
   "outputs": [],
   "source": [
    "#This Classifier is used for classifying whether it is a character or an object\n",
    "\n",
    "import pickle\n",
    "#Load training dataset of street view character and object images\n",
    "with open(\"X_char.txt\", \"rb\") as X_file_r:   # Unpickling\n",
    "       X_char = pickle.load(X_file_r)\n",
    "with open(\"X_obj.txt\", \"rb\") as X_obj_file_r:   # Unpickling\n",
    "       X_obj = pickle.load(X_obj_file_r)\n",
    "with open(\"X.txt\", \"rb\") as X_file_r:   # Unpickling\n",
    "       X = pickle.load(X_file_r)"
   ]
  },
  {
   "cell_type": "code",
   "execution_count": 9,
   "metadata": {
    "collapsed": true
   },
   "outputs": [],
   "source": [
    "#Create labels for training of the model\n",
    "#1 represents it is a character\n",
    "#0 represents it is an object\n",
    "y_label_svc=[1]*13262+[0]*14000"
   ]
  },
  {
   "cell_type": "code",
   "execution_count": 10,
   "metadata": {
    "collapsed": true
   },
   "outputs": [],
   "source": [
    "import matplotlib.pyplot as plt\n",
    "import numpy as np\n",
    "#Combine training dataset of street view character and object\n",
    "X_svc=X+X_obj\n",
    "X_svc=np.array(X_svc)\n",
    "\n",
    "#Shuffle the training dataset randomly so that the classes of 0 and 1 are distributed randomly\n",
    "from sklearn.utils import shuffle\n",
    "X_svc, y_label_svc = shuffle(X_svc, y_label_svc, random_state=10)"
   ]
  },
  {
   "cell_type": "code",
   "execution_count": 12,
   "metadata": {},
   "outputs": [
    {
     "name": "stdout",
     "output_type": "stream",
     "text": [
      "Recall of SVC: 0.89 (+/- 0.01)\n",
      "Recall of Logistic Regression: 0.89 (+/- 0.01)\n"
     ]
    }
   ],
   "source": [
    "#Package sklearn required\n",
    "from sklearn import svm\n",
    "from sklearn import linear_model\n",
    "from sklearn.cross_validation import train_test_split\n",
    "from sklearn.model_selection import cross_val_score\n",
    "#Split 2/3 of dataset for training and 1/3 of dataset for testing through cross validation in order to evaluate the model\n",
    "X_svc_train, X_svc_test, y_svc_train, y_svc_test = train_test_split(X_svc, y_label_svc, test_size=0.33, random_state=5)\n",
    "#Compare support vector machine classifier (SVC) and logistic regression classifier\n",
    "#reference: http://scikit-learn.org/stable/modules/generated/sklearn.svm.SVC.html\n",
    "svmclf = svm.SVC()\n",
    "#reference: http://scikit-learn.org/stable/modules/generated/sklearn.linear_model.LogisticRegression.html\n",
    "logclf = linear_model.LogisticRegression()\n",
    "\n",
    "#Choose a model to maximise recall, which is less false negative through 5-fold cross validation\n",
    "scores_svm = cross_val_score(svmclf, X_svc_train, y_svc_train, cv=5,scoring='recall')\n",
    "scores_log = cross_val_score(logclf, X_svc_train, y_svc_train, cv=5,scoring='recall')\n",
    "print(\"Recall of SVC: %0.2f (+/- %0.2f)\" % (scores_svm.mean(), scores_svm.std() * 2))\n",
    "print(\"Recall of Logistic Regression: %0.2f (+/- %0.2f)\" % (scores_log.mean(), scores_log.std() * 2))"
   ]
  },
  {
   "cell_type": "code",
   "execution_count": 13,
   "metadata": {},
   "outputs": [
    {
     "data": {
      "text/plain": [
       "['svmmodel.pkl']"
      ]
     },
     "execution_count": 13,
     "metadata": {},
     "output_type": "execute_result"
    }
   ],
   "source": [
    "from sklearn.externals import joblib\n",
    "#Fit and save the SVC model\n",
    "svmclf.fit(X_svc, y_label_svc)\n",
    "joblib.dump(svmclf, 'svmmodel.pkl') \n",
    "#code to load the model\n",
    "#svmclf = joblib.load('svmmodel.pkl') "
   ]
  },
  {
   "cell_type": "code",
   "execution_count": null,
   "metadata": {
    "collapsed": true
   },
   "outputs": [],
   "source": []
  }
 ],
 "metadata": {
  "kernelspec": {
   "display_name": "Python 3",
   "language": "python",
   "name": "python3"
  },
  "language_info": {
   "codemirror_mode": {
    "name": "ipython",
    "version": 3
   },
   "file_extension": ".py",
   "mimetype": "text/x-python",
   "name": "python",
   "nbconvert_exporter": "python",
   "pygments_lexer": "ipython3",
   "version": "3.6.3"
  }
 },
 "nbformat": 4,
 "nbformat_minor": 2
}
