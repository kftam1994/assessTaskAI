{
 "cells": [
  {
   "cell_type": "code",
   "execution_count": 1,
   "metadata": {
    "collapsed": true
   },
   "outputs": [],
   "source": [
    "import csv\n",
    "import itertools\n",
    "import pickle\n",
    "\n",
    "#Load labels for natural character image dataset\n",
    "#Subset of natural images from Chars 74k dataset\n",
    "with open('src/train_char_Labels.csv', 'r') as label_file:\n",
    "    reader = csv.reader(label_file)\n",
    "    label_list = list(reader)\n",
    "\n",
    "y_char=[]\n",
    "for i in label_list:\n",
    "    if(i[0]!='ID'):\n",
    "        y_char.append(i[1])\n",
    "\n",
    "y_char=y_char[0:6284]\n",
    "#Save labels\n",
    "with open(\"y_char.txt\", \"wb\") as y_file_w:   #Pickling\n",
    "       pickle.dump(y_char, y_file_w)"
   ]
  },
  {
   "cell_type": "code",
   "execution_count": null,
   "metadata": {
    "collapsed": true
   },
   "outputs": [],
   "source": []
  }
 ],
 "metadata": {
  "kernelspec": {
   "display_name": "Python 3",
   "language": "python",
   "name": "python3"
  },
  "language_info": {
   "codemirror_mode": {
    "name": "ipython",
    "version": 3
   },
   "file_extension": ".py",
   "mimetype": "text/x-python",
   "name": "python",
   "nbconvert_exporter": "python",
   "pygments_lexer": "ipython3",
   "version": "3.6.3"
  }
 },
 "nbformat": 4,
 "nbformat_minor": 2
}
